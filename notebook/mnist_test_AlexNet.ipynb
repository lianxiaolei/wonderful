{
 "cells": [
  {
   "cell_type": "code",
   "execution_count": 1,
   "metadata": {},
   "outputs": [
    {
     "name": "stderr",
     "output_type": "stream",
     "text": [
      "/home/lianxiaolei/anaconda2/lib/python2.7/site-packages/h5py/__init__.py:36: FutureWarning: Conversion of the second argument of issubdtype from `float` to `np.floating` is deprecated. In future, it will be treated as `np.float64 == np.dtype(float).type`.\n",
      "  from ._conv import register_converters as _register_converters\n"
     ]
    }
   ],
   "source": [
    "import cv2\n",
    "import tensorflow as tf\n",
    "from tensorflow.examples.tutorials.mnist import input_data\n",
    "%matplotlib inline\n",
    "import matplotlib.pyplot as plt\n",
    "import numpy as np\n",
    "# import tflearn\n",
    "from sklearn import svm"
   ]
  },
  {
   "cell_type": "code",
   "execution_count": 2,
   "metadata": {},
   "outputs": [
    {
     "name": "stdout",
     "output_type": "stream",
     "text": [
      "Extracting /tmp/data/train-images-idx3-ubyte.gz\n",
      "Extracting /tmp/data/train-labels-idx1-ubyte.gz\n",
      "Extracting /tmp/data/t10k-images-idx3-ubyte.gz\n",
      "Extracting /tmp/data/t10k-labels-idx1-ubyte.gz\n"
     ]
    }
   ],
   "source": [
    "mnist_data_folder='/tmp/data'\n",
    "mnist=input_data.read_data_sets(mnist_data_folder, one_hot=True)"
   ]
  },
  {
   "cell_type": "code",
   "execution_count": 3,
   "metadata": {},
   "outputs": [
    {
     "name": "stdout",
     "output_type": "stream",
     "text": [
      "训练集信息：\n",
      "((55000, 784), (55000, 10))\n",
      "测试集信息：\n",
      "((10000, 784), (10000, 10))\n",
      "验证集信息：\n",
      "((5000, 784), (5000, 10))\n"
     ]
    }
   ],
   "source": [
    "print('训练集信息：')\n",
    "print(mnist.train.images.shape,mnist.train.labels.shape)\n",
    "print('测试集信息：')\n",
    "print(mnist.test.images.shape,mnist.test.labels.shape)\n",
    "print('验证集信息：')\n",
    "print(mnist.validation.images.shape,mnist.validation.labels.shape)"
   ]
  },
  {
   "cell_type": "code",
   "execution_count": 4,
   "metadata": {},
   "outputs": [],
   "source": [
    "batch_x=mnist.test.images[:256]\n",
    "batch_y=mnist.test.labels[:256]"
   ]
  },
  {
   "cell_type": "code",
   "execution_count": 5,
   "metadata": {},
   "outputs": [],
   "source": [
    "img1 = cv2.imread('1_0.jpg', cv2.IMREAD_GRAYSCALE).reshape(1, -1) / 255.0\n",
    "img2 = cv2.imread('2_0.jpg', cv2.IMREAD_GRAYSCALE).reshape(1, -1) / 255.0\n",
    "img3 = cv2.imread('3_0.jpg', cv2.IMREAD_GRAYSCALE).reshape(1, -1) / 255.0\n",
    "img4 = cv2.imread('4_0.jpg', cv2.IMREAD_GRAYSCALE).reshape(1, -1) / 255.0\n",
    "img5 = cv2.imread('5_0.jpg', cv2.IMREAD_GRAYSCALE).reshape(1, -1) / 255.0\n",
    "img6 = cv2.imread('6_0.jpg', cv2.IMREAD_GRAYSCALE).reshape(1, -1) / 255.0\n",
    "img7 = cv2.imread('7_0.jpg', cv2.IMREAD_GRAYSCALE).reshape(1, -1) / 255.0\n",
    "img8 = cv2.imread('8_0.jpg', cv2.IMREAD_GRAYSCALE).reshape(1, -1) / 255.0\n",
    "img9 = cv2.imread('9_0.jpg', cv2.IMREAD_GRAYSCALE).reshape(1, -1) / 255.0\n",
    "img0 = cv2.imread('0_0.jpg', cv2.IMREAD_GRAYSCALE).reshape(1, -1) / 255.0\n",
    "imgs = np.vstack(\n",
    "    [img1, img2, img3, img4, img5, img6, img7, img8, img9, img0])\n",
    "imgs[imgs < 0.015] = 0"
   ]
  },
  {
   "cell_type": "code",
   "execution_count": 6,
   "metadata": {},
   "outputs": [
    {
     "data": {
      "image/png": "[encoded data removed]",
      "text/plain": [
       "<matplotlib.figure.Figure at 0x7f2cf2026a50>"
      ]
     },
     "metadata": {},
     "output_type": "display_data"
    }
   ],
   "source": [
    "plt.subplot(1,10,1).imshow(img1.reshape(28, 28))\n",
    "plt.subplot(1,10,2).imshow(img2.reshape(28, 28))\n",
    "plt.subplot(1,10,3).imshow(img3.reshape(28, 28))\n",
    "plt.subplot(1,10,4).imshow(img4.reshape(28, 28))\n",
    "plt.subplot(1,10,5).imshow(img5.reshape(28, 28))\n",
    "plt.subplot(1,10,6).imshow(img6.reshape(28, 28))\n",
    "plt.subplot(1,10,7).imshow(img7.reshape(28, 28))\n",
    "plt.subplot(1,10,8).imshow(img8.reshape(28, 28))\n",
    "plt.subplot(1,10,9).imshow(img9.reshape(28, 28))\n",
    "plt.subplot(1,10,10).imshow(img0.reshape(28, 28))\n",
    "\n",
    "plt.show()"
   ]
  },
  {
   "cell_type": "markdown",
   "metadata": {},
   "source": [
    "## Softmax"
   ]
  },
  {
   "cell_type": "code",
   "execution_count": 58,
   "metadata": {},
   "outputs": [],
   "source": [
    "# sess = tf.InteractiveSession()\n",
    "x = tf.placeholder(tf.float32, [None, 784])\n",
    "W = tf.Variable(tf.zeros([784,10]))\n",
    "b = tf.Variable(tf.zeros([10]))\n",
    "\n",
    "#softmax回归模型\n",
    "y = tf.nn.softmax(tf.matmul(x,W) + b)\n",
    "y_ = tf.placeholder(\"float\", [None,10])\n",
    "#计算交叉熵\n",
    "cross_entropy = -tf.reduce_sum(y_*tf.log(y))\n",
    "#设置TensorFlow用梯度下降算法以0.01的学习速率最小化交叉熵\n",
    "train_step = tf.train.GradientDescentOptimizer(0.01).minimize(cross_entropy)\n",
    "#初始化变量\n",
    "init = tf.initialize_all_variables()\n",
    "#评估模型\n",
    "correct_prediction = tf.equal(tf.argmax(y,1), tf.argmax(y_,1))\n",
    "accuracy = tf.reduce_mean(tf.cast(correct_prediction, \"float\"))\n",
    "\n",
    "saver = tf.train.Saver()  ##保存的API"
   ]
  },
  {
   "cell_type": "code",
   "execution_count": 59,
   "metadata": {},
   "outputs": [
    {
     "name": "stdout",
     "output_type": "stream",
     "text": [
      "softmax回归测试MNIST数据集正确率:\n",
      "0.098\n",
      "save model:./Test_MNIST_CROSS_ENTROPY.ckpt Finished\n"
     ]
    }
   ],
   "source": [
    "#循环训练模型\n",
    "with tf.Session() as sess:\n",
    "    sess.run(init)\n",
    "    for i in range(100):\n",
    "        batch = mnist.train.next_batch(200)\n",
    "        sess.run(train_step,feed_dict={x: batch[0], y_: batch[1]})\n",
    "        \n",
    "#         sess.run(train_step,feed_dict={x: x_train, y_: y_train})\n",
    "    #输出结果\n",
    "    print \"softmax回归测试MNIST数据集正确率:\"\n",
    "    print sess.run(accuracy, feed_dict={x: mnist.test.images, y_: mnist.test.labels})\n",
    "    \n",
    "    save_path = saver.save(sess,\"./Test_MNIST_CROSS_ENTROPY.ckpt\")  #保存模型\n",
    "    print(\"save model:{0} Finished\".format(save_path))"
   ]
  },
  {
   "cell_type": "code",
   "execution_count": 63,
   "metadata": {},
   "outputs": [
    {
     "name": "stdout",
     "output_type": "stream",
     "text": [
      "INFO:tensorflow:Restoring parameters from ./Test_MNIST_CROSS_ENTROPY.ckpt\n",
      "[array([0, 0, 0, 0, 0, 0, 0, 0, 0, 0])]\n"
     ]
    }
   ],
   "source": [
    "pred_class_index=tf.argmax(y, 1)\n",
    "with tf.Session() as sess:\n",
    "    #sess.run(init) #不使用训练好的参数\n",
    "    load_path = saver.restore(sess,\"./Test_MNIST_CROSS_ENTROPY.ckpt\")  #load上一步训练的参数\n",
    "    \n",
    "    pred_value = sess.run([pred_class_index], feed_dict={x: imgs})\n",
    "    # Calculate accuracy for 256 mnist test images\n",
    "    # mnist部分测试数据集，用刚刚训练好的模型来做预测。\n",
    "    print pred_value"
   ]
  },
  {
   "cell_type": "markdown",
   "metadata": {},
   "source": [
    "## SVM"
   ]
  },
  {
   "cell_type": "code",
   "execution_count": 64,
   "metadata": {},
   "outputs": [],
   "source": [
    "x_train = mnist.train.images[:1000]\n",
    "y_train = mnist.train.labels[:1000]\n",
    "\n",
    "x_test = mnist.test.images[:1000]\n",
    "y_test = mnist.test.labels[:1000]"
   ]
  },
  {
   "cell_type": "code",
   "execution_count": 65,
   "metadata": {},
   "outputs": [
    {
     "data": {
      "text/plain": [
       "SVC(C=1.0, cache_size=200, class_weight=None, coef0=0.0,\n",
       "  decision_function_shape='ovr', degree=3, gamma=0.025, kernel='rbf',\n",
       "  max_iter=-1, probability=False, random_state=None, shrinking=True,\n",
       "  tol=0.001, verbose=False)"
      ]
     },
     "execution_count": 65,
     "metadata": {},
     "output_type": "execute_result"
    }
   ],
   "source": [
    "sc = svm.SVC(gamma=0.025)\n",
    "sc.fit(x_train, np.argmax(y_train, axis=1))"
   ]
  },
  {
   "cell_type": "code",
   "execution_count": 66,
   "metadata": {},
   "outputs": [
    {
     "name": "stdout",
     "output_type": "stream",
     "text": [
      "0.9375\n"
     ]
    }
   ],
   "source": [
    "pred = sc.predict(batch_x)\n",
    "# print pred\n",
    "# print np.argmax(batch_y, axis=1)\n",
    "print np.sum(pred == np.argmax(batch_y, axis=1)) / float(batch_y.shape[0])"
   ]
  },
  {
   "cell_type": "code",
   "execution_count": 67,
   "metadata": {},
   "outputs": [
    {
     "name": "stdout",
     "output_type": "stream",
     "text": [
      "[1 3 3 4 7 6 4 8 5 0]\n"
     ]
    }
   ],
   "source": [
    "pred = sc.predict(imgs)\n",
    "print pred"
   ]
  },
  {
   "cell_type": "markdown",
   "metadata": {},
   "source": [
    "## CNN"
   ]
  },
  {
   "cell_type": "code",
   "execution_count": 7,
   "metadata": {},
   "outputs": [],
   "source": [
    "def conv_net(X, w, w2, w3, w4, w_o, p_keep_conv, p_keep_hidden):\n",
    "    #第一个卷积层:padding=SAME,保证输出的feature map与输入矩阵的大小相同\n",
    "    l1a = tf.nn.relu(tf.nn.conv2d(X, w,                       # l1a shape=(?, 28, 28, 32)\n",
    "                        strides=[1, 1, 1, 1], padding='SAME'))\n",
    "    #max_pooling,窗口大小为2x2\n",
    "    l1 = tf.nn.max_pool(l1a, ksize=[1, 2, 2, 1],              # l1 shape=(?, 14, 14, 32)\n",
    "                        strides=[1, 2, 2, 1], padding='SAME')\n",
    "    #dropout:每个神经元有p_keep_conv的概率以1/p_keep_conv的比例进行归一化,有(1-p_keep_conv)的概率置为0\n",
    "    l1 = tf.nn.dropout(l1, p_keep_conv)\n",
    "\n",
    "    #第二个卷积层\n",
    "    l2a = tf.nn.relu(tf.nn.conv2d(l1, w2,                     # l2a shape=(?, 14, 14, 64)\n",
    "                        strides=[1, 1, 1, 1], padding='SAME'))\n",
    "    l2 = tf.nn.max_pool(l2a, ksize=[1, 2, 2, 1],              # l2 shape=(?, 7, 7, 64)\n",
    "                        strides=[1, 2, 2, 1], padding='SAME')\n",
    "    l2 = tf.nn.dropout(l2, p_keep_conv)\n",
    "\n",
    "    #第三个卷积层\n",
    "    l3a = tf.nn.relu(tf.nn.conv2d(l2, w3,                     # l3a shape=(?, 7, 7, 128)\n",
    "                        strides=[1, 1, 1, 1], padding='SAME'))\n",
    "    l3 = tf.nn.max_pool(l3a, ksize=[1, 2, 2, 1],              # l3 shape=(?, 4, 4, 128)\n",
    "                        strides=[1, 2, 2, 1], padding='SAME')\n",
    "    #将所有的feature map合并成一个2048维向量\n",
    "    l3 = tf.reshape(l3, [-1, w4.get_shape().as_list()[0]])    # reshape to (?, 2048)\n",
    "    l3 = tf.nn.dropout(l3, p_keep_conv)\n",
    "    #后面两层为全连接层\n",
    "    l4 = tf.nn.relu(tf.matmul(l3, w4))\n",
    "    l4 = tf.nn.dropout(l4, p_keep_hidden)\n",
    "    pyx = tf.matmul(l4, w_o)\n",
    "    \n",
    "    return pyx"
   ]
  },
  {
   "cell_type": "code",
   "execution_count": 8,
   "metadata": {},
   "outputs": [],
   "source": [
    "#初始化参数\n",
    "def init_weights(shape):\n",
    "    return tf.Variable(tf.random_normal(shape, stddev=0.01))"
   ]
  },
  {
   "cell_type": "code",
   "execution_count": 17,
   "metadata": {},
   "outputs": [],
   "source": [
    "batch_size = 128\n",
    "test_size = 256"
   ]
  },
  {
   "cell_type": "code",
   "execution_count": 18,
   "metadata": {},
   "outputs": [],
   "source": [
    "trX, trY, teX, teY = mnist.train.images, mnist.train.labels, mnist.test.images, mnist.test.labels\n",
    "trX = trX.reshape(-1, 28, 28, 1)  # 将每张图片用一个28x28的矩阵表示,(55000,28,28,1)\n",
    "teX = teX.reshape(-1, 28, 28, 1)  # 将每张图片用一个28x28的矩阵表示,(1000,28,28,1)"
   ]
  },
  {
   "cell_type": "code",
   "execution_count": 13,
   "metadata": {},
   "outputs": [],
   "source": [
    "X = tf.placeholder(\"float\", [None, 28, 28, 1])\n",
    "Y = tf.placeholder(\"float\", [None, 10])"
   ]
  },
  {
   "cell_type": "code",
   "execution_count": 9,
   "metadata": {},
   "outputs": [],
   "source": [
    "w = init_weights([3, 3, 1, 32])       # 第一层卷积核大小为3x3,输入一张图,输出32个feature map\n",
    "w2 = init_weights([3, 3, 32, 64])     # 第二层卷积核大小为3x3,输入32个feature map,输出64个feature map\n",
    "w3 = init_weights([3, 3, 64, 128])    # 第三层卷积核大小为3x3,输入64个feature map,输出128个feature map\n",
    "w4 = init_weights([128 * 4 * 4, 625]) # FC 128 * 4 * 4 inputs, 625 outputs\n",
    "w_o = init_weights([625, 10])         # FC 625 inputs, 10 outputs (labels)"
   ]
  },
  {
   "cell_type": "code",
   "execution_count": 14,
   "metadata": {},
   "outputs": [],
   "source": [
    "p_keep_conv = tf.placeholder(\"float\") # 卷积层的dropout概率\n",
    "p_keep_hidden = tf.placeholder(\"float\")# 全连接层的dropout概率\n",
    "py_x = conv_net(X, w, w2, w3, w4, w_o, p_keep_conv, p_keep_hidden)"
   ]
  },
  {
   "cell_type": "code",
   "execution_count": 15,
   "metadata": {},
   "outputs": [
    {
     "name": "stdout",
     "output_type": "stream",
     "text": [
      "WARNING:tensorflow:From <ipython-input-15-f5716f6b7c2d>:3: softmax_cross_entropy_with_logits (from tensorflow.python.ops.nn_ops) is deprecated and will be removed in a future version.\n",
      "Instructions for updating:\n",
      "\n",
      "Future major versions of TensorFlow will allow gradients to flow\n",
      "into the labels input on backprop by default.\n",
      "\n",
      "See tf.nn.softmax_cross_entropy_with_logits_v2.\n",
      "\n"
     ]
    }
   ],
   "source": [
    "#初始化变量\n",
    "init = tf.initialize_all_variables()\n",
    "cost = tf.reduce_mean(tf.nn.softmax_cross_entropy_with_logits(logits=py_x, labels=Y))# 交叉熵目标函数\n",
    "train_op = tf.train.RMSPropOptimizer(0.001, 0.9).minimize(cost)#RMSPro算法最小化目标函数\n",
    "\n",
    "#评估模型\n",
    "predict_op = tf.argmax(py_x, 1)#返回每个样本的预测结果\n",
    "saver = tf.train.Saver()  ##保存的API"
   ]
  },
  {
   "cell_type": "code",
   "execution_count": 24,
   "metadata": {
    "scrolled": true
   },
   "outputs": [
    {
     "name": "stdout",
     "output_type": "stream",
     "text": [
      "GPU USING: \n",
      "(0, 0.9609375)\n",
      "(1, 0.9921875)\n",
      "(2, 0.9921875)\n",
      "save model:./Test_MNIST_CNN.ckpt Finished\n",
      "time cost: 265.014860153\n"
     ]
    }
   ],
   "source": [
    "# Launch the graph in a session\n",
    "print 'GPU USING:', tf.test.gpu_device_name()\n",
    "import time\n",
    "tmp_time = time.time()\n",
    "with tf.Session() as sess:\n",
    "    # you need to initialize all variables\n",
    "    tf.initialize_all_variables().run()\n",
    "\n",
    "    for i in range(3):\n",
    "        training_batch = zip(range(0, len(trX), batch_size),\n",
    "                             range(batch_size, len(trX)+1, batch_size))\n",
    "        for start, end in training_batch:\n",
    "            sess.run(train_op, feed_dict={X: trX[start:end], Y: trY[start:end],\n",
    "                                          p_keep_conv: 0.8, p_keep_hidden: 0.5})\n",
    "        #test\n",
    "        test_indices = np.arange(len(teX)) \n",
    "        np.random.shuffle(test_indices)\n",
    "        test_indices = test_indices[0:test_size]\n",
    "\n",
    "        print(i, np.mean(np.argmax(teY[test_indices], axis=1) ==\n",
    "                         sess.run(predict_op, feed_dict={X: teX[test_indices],\n",
    "                                                         p_keep_conv: 1.0,\n",
    "                                                         p_keep_hidden: 1.0})))\n",
    "        \n",
    "    save_path = saver.save(sess,\"./Test_MNIST_CNN.ckpt\")\n",
    "    print(\"save model:{0} Finished\".format(save_path))\n",
    "print 'time cost:', time.time() - tmp_time"
   ]
  },
  {
   "cell_type": "code",
   "execution_count": 16,
   "metadata": {},
   "outputs": [
    {
     "name": "stdout",
     "output_type": "stream",
     "text": [
      "INFO:tensorflow:Restoring parameters from ./Test_MNIST_CNN.ckpt\n",
      "('Testing Result:', array([1, 2, 3, 4, 5, 6, 7, 8, 8, 0]))\n"
     ]
    }
   ],
   "source": [
    "sess = tf.Session()\n",
    "sess.run(tf.global_variables_initializer())\n",
    "saver = tf.train.Saver()  ##保存的API\n",
    "with tf.Session() as sess:\n",
    "    #sess.run(init) #不使用训练好的参数\n",
    "    load_path = saver.restore(sess,\"./Test_MNIST_CNN.ckpt\")  #load上一步训练的参数\n",
    "    \n",
    "    pred = sess.run(predict_op, feed_dict={X: imgs.reshape(-1, 28, 28, 1), p_keep_conv: 1.0, p_keep_hidden: 1.0})\n",
    "    print(\"Testing Result:\", pred)"
   ]
  },
  {
   "cell_type": "markdown",
   "metadata": {},
   "source": [
    "## AlexNet"
   ]
  },
  {
   "cell_type": "code",
   "execution_count": 79,
   "metadata": {},
   "outputs": [],
   "source": [
    "# 定义网络超参数\n",
    "learning_rate = 0.001\n",
    "training_iters = 20000\n",
    "batch_size = 64\n",
    "display_step = 20"
   ]
  },
  {
   "cell_type": "code",
   "execution_count": 80,
   "metadata": {},
   "outputs": [],
   "source": [
    "# 定义网络参数\n",
    "n_input = 784 # 输入的维度\n",
    "n_classes = 10 # 标签的维度\n",
    "dropout = 0.8 # Dropout 的概率"
   ]
  },
  {
   "cell_type": "code",
   "execution_count": 81,
   "metadata": {},
   "outputs": [],
   "source": [
    "# 占位符输入\n",
    "x = tf.placeholder(tf.float32, [None, n_input])\n",
    "y = tf.placeholder(tf.float32, [None, n_classes])\n",
    "keep_prob = tf.placeholder(tf.float32)"
   ]
  },
  {
   "cell_type": "code",
   "execution_count": 82,
   "metadata": {},
   "outputs": [],
   "source": [
    "def conv2d(name, l_input, w, b):\n",
    "    conv = tf.nn.conv2d(l_input, w, strides=[1, 1, 1, 1], padding='SAME')\n",
    "    bias = tf.nn.bias_add(conv, b)\n",
    "    relu = tf.nn.relu(bias, name=name)\n",
    "    return relu"
   ]
  },
  {
   "cell_type": "code",
   "execution_count": 83,
   "metadata": {},
   "outputs": [],
   "source": [
    "def max_pool(name, l_input, k):\n",
    "    pool = tf.nn.max_pool(l_input, ksize=[1, k, k, 1], strides=[1, k, k, 1], padding='SAME', name=name)\n",
    "    return pool"
   ]
  },
  {
   "cell_type": "code",
   "execution_count": 84,
   "metadata": {},
   "outputs": [],
   "source": [
    "def norm(name, l_input, lsize=4):\n",
    "    lrn = tf.nn.lrn(l_input, lsize, bias=1.0, alpha=0.001 / 9.0, beta=0.75, name=name)\n",
    "    return lrn"
   ]
  },
  {
   "cell_type": "code",
   "execution_count": 85,
   "metadata": {},
   "outputs": [],
   "source": [
    "def alex_net(_X, _weights, _biases, _dropout):\n",
    "    # 向量转为矩阵\n",
    "    _X = tf.reshape(_X, shape=[-1, 28, 28, 1])\n",
    "\n",
    "    # 卷积层\n",
    "    conv1 = conv2d('conv1', _X, _weights['wc1'], _biases['bc1'])\n",
    "    # 下采样层\n",
    "    pool1 = max_pool('pool1', conv1, k=2)\n",
    "    # 归一化层\n",
    "    norm1 = norm('norm1', pool1, lsize=4)\n",
    "    # Dropout\n",
    "    norm1 = tf.nn.dropout(norm1, _dropout)\n",
    "\n",
    "    # 卷积\n",
    "    conv2 = conv2d('conv2', norm1, _weights['wc2'], _biases['bc2'])\n",
    "    # 下采样\n",
    "    pool2 = max_pool('pool2', conv2, k=2)\n",
    "    # 归一化\n",
    "    norm2 = norm('norm2', pool2, lsize=4)\n",
    "    # Dropout\n",
    "    norm2 = tf.nn.dropout(norm2, _dropout)\n",
    "\n",
    "    # 卷积\n",
    "    conv3 = conv2d('conv3', norm2, _weights['wc3'], _biases['bc3'])\n",
    "    # 下采样\n",
    "    pool3 = max_pool('pool3', conv3, k=2)\n",
    "    # 归一化\n",
    "    norm3 = norm('norm3', pool3, lsize=4)\n",
    "    # Dropout\n",
    "    norm3 = tf.nn.dropout(norm3, _dropout)\n",
    "    \n",
    "    # 全连接层，先把特征图转为向量\n",
    "    dense1 = tf.reshape(norm3, [-1, _weights['wd1'].get_shape().as_list()[0]]) \n",
    "    dense1 = tf.nn.relu(tf.matmul(dense1, _weights['wd1']) + _biases['bd1'], name='fc1') \n",
    "    # 全连接层\n",
    "    dense2 = tf.nn.relu(tf.matmul(dense1, _weights['wd2']) + _biases['bd2'], name='fc2') # Relu activation\n",
    "\n",
    "    # 网络输出层\n",
    "    out = tf.matmul(dense2, _weights['out']) + _biases['out']\n",
    "    return out"
   ]
  },
  {
   "cell_type": "code",
   "execution_count": 86,
   "metadata": {},
   "outputs": [],
   "source": [
    "# 存储所有的网络参数\n",
    "weights = {\n",
    "    'wc1': tf.Variable(tf.random_normal([3, 3, 1, 64])),\n",
    "    'wc2': tf.Variable(tf.random_normal([3, 3, 64, 128])),\n",
    "    'wc3': tf.Variable(tf.random_normal([3, 3, 128, 256])),\n",
    "    'wd1': tf.Variable(tf.random_normal([4*4*256, 1024])),\n",
    "    'wd2': tf.Variable(tf.random_normal([1024, 1024])),\n",
    "    'out': tf.Variable(tf.random_normal([1024, 10]))\n",
    "}\n",
    "biases = {\n",
    "    'bc1': tf.Variable(tf.random_normal([64])),\n",
    "    'bc2': tf.Variable(tf.random_normal([128])),\n",
    "    'bc3': tf.Variable(tf.random_normal([256])),\n",
    "    'bd1': tf.Variable(tf.random_normal([1024])),\n",
    "    'bd2': tf.Variable(tf.random_normal([1024])),\n",
    "    'out': tf.Variable(tf.random_normal([n_classes]))\n",
    "}"
   ]
  },
  {
   "cell_type": "code",
   "execution_count": 87,
   "metadata": {},
   "outputs": [],
   "source": [
    "# 构建模型\n",
    "pred = alex_net(x, weights, biases, keep_prob)\n",
    "\n",
    "# 定义损失函数和学习步骤\n",
    "cost = tf.reduce_mean(tf.nn.softmax_cross_entropy_with_logits(logits = pred, labels = y))\n",
    "optimizer = tf.train.AdamOptimizer(learning_rate=learning_rate).minimize(cost)"
   ]
  },
  {
   "cell_type": "code",
   "execution_count": 88,
   "metadata": {},
   "outputs": [],
   "source": [
    "correct_pred = tf.equal(tf.argmax(pred,1), tf.argmax(y,1))\n",
    "accuracy = tf.reduce_mean(tf.cast(correct_pred, tf.float32))"
   ]
  },
  {
   "cell_type": "code",
   "execution_count": 89,
   "metadata": {},
   "outputs": [],
   "source": [
    "init = tf.initialize_all_variables()"
   ]
  },
  {
   "cell_type": "code",
   "execution_count": 90,
   "metadata": {},
   "outputs": [
    {
     "name": "stdout",
     "output_type": "stream",
     "text": [
      "Iter 1280, Minibatch Loss= 104590.382812, Training Accuracy = 0.34375\n",
      "Iter 2560, Minibatch Loss= 86712.015625, Training Accuracy = 0.34375\n",
      "Iter 3840, Minibatch Loss= 86625.609375, Training Accuracy = 0.31250\n",
      "Iter 5120, Minibatch Loss= 59260.382812, Training Accuracy = 0.42188\n",
      "Iter 6400, Minibatch Loss= 56949.382812, Training Accuracy = 0.48438\n",
      "Iter 7680, Minibatch Loss= 36199.660156, Training Accuracy = 0.51562\n",
      "Iter 8960, Minibatch Loss= 37954.382812, Training Accuracy = 0.51562\n",
      "Iter 10240, Minibatch Loss= 41916.984375, Training Accuracy = 0.53125\n",
      "Iter 11520, Minibatch Loss= 14355.823242, Training Accuracy = 0.70312\n",
      "Iter 12800, Minibatch Loss= 26962.003906, Training Accuracy = 0.67188\n",
      "Iter 14080, Minibatch Loss= 28412.732422, Training Accuracy = 0.62500\n",
      "Iter 15360, Minibatch Loss= 23608.550781, Training Accuracy = 0.70312\n",
      "Iter 16640, Minibatch Loss= 13999.136719, Training Accuracy = 0.71875\n",
      "Iter 17920, Minibatch Loss= 15912.301758, Training Accuracy = 0.65625\n",
      "Iter 19200, Minibatch Loss= 20261.845703, Training Accuracy = 0.65625\n",
      "save model:./Test_MNIST_AlexNet.ckpt Finished\n",
      "Optimization Finished!\n",
      "('Testing Accuracy:', 0.7109375)\n"
     ]
    }
   ],
   "source": [
    "with tf.Session() as sess:\n",
    "    sess.run(init)\n",
    "    step = 1\n",
    "    # Keep training until reach max iterations\n",
    "    while step * batch_size < training_iters:\n",
    "        batch_xs, batch_ys = mnist.train.next_batch(batch_size)\n",
    "        # 获取批数据\n",
    "        sess.run(optimizer, feed_dict={x: batch_xs, y: batch_ys, keep_prob: dropout})\n",
    "        if step % display_step == 0:\n",
    "            # 计算精度\n",
    "            acc = sess.run(accuracy, feed_dict={x: batch_xs, y: batch_ys, keep_prob: 1.})\n",
    "            # 计算损失值\n",
    "            loss = sess.run(cost, feed_dict={x: batch_xs, y: batch_ys, keep_prob: 1.})\n",
    "            print (\"Iter \" + str(step*batch_size) + \", Minibatch Loss= \" + \"{:.6f}\".format(loss) + \", Training Accuracy = \" + \"{:.5f}\".format(acc))\n",
    "        step += 1\n",
    "        \n",
    "    save_path = saver.save(sess,\"./Test_MNIST_AlexNet.ckpt\")\n",
    "    print(\"save model:{0} Finished\".format(save_path))\n",
    "    print (\"Optimization Finished!\")\n",
    "    # 计算测试精度\n",
    "    print (\"Testing Accuracy:\", sess.run(accuracy, feed_dict={x: mnist.test.images[:256], y: mnist.test.labels[:256], keep_prob: 1.}))"
   ]
  },
  {
   "cell_type": "code",
   "execution_count": 55,
   "metadata": {},
   "outputs": [
    {
     "data": {
      "text/plain": [
       "(280, 28)"
      ]
     },
     "execution_count": 55,
     "metadata": {},
     "output_type": "execute_result"
    }
   ],
   "source": [
    "imgs.shape"
   ]
  },
  {
   "cell_type": "code",
   "execution_count": 17,
   "metadata": {},
   "outputs": [
    {
     "data": {
      "text/plain": [
       "'1.6.0'"
      ]
     },
     "execution_count": 17,
     "metadata": {},
     "output_type": "execute_result"
    }
   ],
   "source": [
    "tf.__version__"
   ]
  },
  {
   "cell_type": "code",
   "execution_count": null,
   "metadata": {},
   "outputs": [],
   "source": []
  }
 ],
 "metadata": {
  "kernelspec": {
   "display_name": "Python 2",
   "language": "python",
   "name": "python2"
  },
  "language_info": {
   "codemirror_mode": {
    "name": "ipython",
    "version": 2
   },
   "file_extension": ".py",
   "mimetype": "text/x-python",
   "name": "python",
   "nbconvert_exporter": "python",
   "pygments_lexer": "ipython2",
   "version": "2.7.14"
  }
 },
 "nbformat": 4,
 "nbformat_minor": 2
}
